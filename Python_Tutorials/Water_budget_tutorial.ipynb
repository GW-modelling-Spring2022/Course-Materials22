{
 "cells": [
  {
   "cell_type": "markdown",
   "metadata": {},
   "source": [
    "# The Modflow Water Budget\n",
    "This tutorial will teach you how to obtain and manipulate water budget data. The MODFLOW documentation states ([Harbaugh, 2005, p. 3-9](https://pubs.usgs.gov/tm/2005/tm6A16/PDF.htm)):\n",
    "\n",
    "> A summary of all inflows (sources) and outflows (sinks) of water to a region is generally called a water budget. In this report, the water budget is termed a volumetric budget because volumes of water and volumetric flow rates are involved; thus strictly speaking, a volumetric budget is not a mass balance, although this term has been used in other model reports. The model program calculates a water budget for the overall model as a check on the acceptability of the solution, and to provide a summary of the sources and sinks of water to the flow system. \n",
    "\n",
    "> The total budget as printed in the output does not include internal flows between model cells—only flows into or out of the model as a whole. For example, flow to or from rivers, flow to or from constant-head cells, and flow to or from wells are all included in the overall budget terms. Flow into and out of storage is also considered part of the overall budget inasmuch as accumulation in storage effectively removes water from the flow system and storage release effectively adds water to the flow—even though neither process, in itself, involves the transfer of water into or out of the ground-water regime. Each hydrologic package calculates its own contribution to the budget. \n",
    "\n",
    "*Note: Because the water budget is volumetric, for our purposes it is m^3/day.*\n",
    "\n",
    "**For more information** about the water budget see chapters 3 and 4 in the [MODFLOW documentation](https://pubs.usgs.gov/tm/2005/tm6A16/PDF.htm).\n",
    "\n",
    "---"
   ]
  },
  {
   "cell_type": "markdown",
   "metadata": {},
   "source": [
    "## 1. Import packages and define variables we need"
   ]
  },
  {
   "cell_type": "code",
   "execution_count": 1,
   "metadata": {},
   "outputs": [
    {
     "name": "stdout",
     "output_type": "stream",
     "text": [
      "flopy is installed in /Library/Frameworks/Python.framework/Versions/3.8/lib/python3.8/site-packages/flopy\n"
     ]
    }
   ],
   "source": [
    "#Import packages\n",
    "import numpy as np\n",
    "import matplotlib.pyplot as plt  #necessary tool for creating and formatting plots\n",
    "import flopy.utils.binaryfile as bf\n",
    "\n",
    "#Jupyter specific--included to show plots in notebook\n",
    "%matplotlib inline \n",
    "\n",
    "\n",
    "#---------------------\n",
    "#Define model name to be called later\n",
    "modelname = \"example_model\"  \n",
    "\n",
    "#Variables we need\n",
    "## Discretization\n",
    "nrow = 50        #number of rows\n",
    "ncol = 50        #number of columns\n",
    "dx = 100.        #width in x\n",
    "dy = 100.        #width in y\n",
    "nper = 4\n",
    "\n",
    "## Well info\n",
    "pumping_rate1 = 0      #m3/day \n",
    "pumping_rate2 = -2500  #m3/day \n",
    "pumping_rate3 = -5000  #m3/day \n",
    "well_xy= [2000, 1500]  #xy location of well \n",
    "well_row = np.floor((nrow-1)-(well_xy[1]/dy))  #convert the y location to a row\n",
    "well_col=np.floor(well_xy[0]/dx-1)             #convert the x location to a column\n",
    "well_loc = (0,well_row,well_col)               #Well loc should be layer, row, column\n",
    "# print(\"Well [layer, row, column, flux]: \\n\", well)"
   ]
  },
  {
   "cell_type": "markdown",
   "metadata": {},
   "source": [
    "## 2. Get binary data\n",
    "We want to read in information from the binary files (head file and cbc file), which contain the budget values. You can learn more about the Flopy binary utilities [here](https://modflowpy.github.io/flopydoc/binaryfile.html).\n",
    "\n",
    "Once the budget object is created and read in, you can see what values it contains. Values like ET, recharge, and leakage will only appear if that package is in use. In order to get storage, the 'storagecoefficient' needs to equal **True** in the LPF package. Storage *only appears after transient changes* in the water budget.\n",
    "> lpf = flopy.modflow.ModflowLpf(m, laytyp=cnf, hk=Kh, vka=Kz, ss=ss, sy=Sy, **storagecoefficient=True**, ipakcb=53)"
   ]
  },
  {
   "cell_type": "code",
   "execution_count": 2,
   "metadata": {},
   "outputs": [
    {
     "name": "stdout",
     "output_type": "stream",
     "text": [
      "Printing unique budget names... [b'   CONSTANT HEAD', b'FLOW RIGHT FACE ', b'FLOW FRONT FACE ', b'   RIVER LEAKAGE', b'              ET', b'        RECHARGE', b'         STORAGE']\n",
      "Transient timesteps... [7.0, 8.0, 9.0, 10.0, 11.0, 12.0, 13.0, 14.0, 15.0, 16.0, 17.0, 18.0, 19.0, 20.0, 21.0, 22.0, 23.0, 24.0, 25.0, 26.0, 27.0, 28.0]\n"
     ]
    }
   ],
   "source": [
    "#Extract binary data from head and budget files using bf (imported above)\n",
    "headobj = bf.HeadFile(modelname+'.hds')        #get head data as python object\n",
    "budgobj = bf.CellBudgetFile(modelname+'.cbc')  #get flow data as python object\n",
    "times = headobj.get_times()                    #get times from headobj\n",
    "\n",
    "#View the available water budget variables\n",
    "print('Printing unique budget names...',budgobj.get_unique_record_names())\n",
    "\n",
    "#View the times used\n",
    "print('Transient timesteps...', times) #these times start counting after the 7 days of steady-state"
   ]
  },
  {
   "cell_type": "markdown",
   "metadata": {},
   "source": [
    "## 3. Pulling stuff out of the Water budget\n",
    "The head values for the model are stored in the headobj, whereas the budgobj stores other values (e.g. Leakage, ET, etc.)\n",
    "Here we create dictionaries to store the water budget information from each stress period. If your model has a single stress period, then the you can just read in the water budget like this:\n",
    "\n",
    "> leakage = budgobj.get_data(text='RIVER LEAKAGE')\n",
    "\n",
    "For this example, we need to account for the various stress periods and time steps. The syntax **'sp%s'%(stress_per)** is a replace method, so we can read in all the data. The **'sp%s'** also creates the dictionary keys that we will need later to access specific parts of the data."
   ]
  },
  {
   "cell_type": "code",
   "execution_count": 3,
   "metadata": {},
   "outputs": [],
   "source": [
    "#Get data from python objects\n",
    "head = {}        #create dictionary to store head data at the end of each stress period\n",
    "frf = {}         #create dictionary to store flows through right cell face at the end of each stress period\n",
    "fff = {}         #create dictionary to store flows through front cell face at the end of each stress period\n",
    "storage = {}     #create dictionary to store storage changes at the end of each stress period\n",
    "consthead = {}   #create dictionary to store constant head data at the end of each stress period\n",
    "leakage = {}     #create dictionary to store leakage values at the end of each stress period\n",
    "recharge = {}    #create dictionary to store recharge values at the end of each stress period\n",
    "et = {}          #create dictionary to store ET values at the end of each stress period\n",
    "\n",
    "\n",
    "for stress_per, time in enumerate(times):                                              #iterate through times at end of each stress period\n",
    "    head['sp%s'%(stress_per)] = headobj.get_data(totim=time)                           #append heads to head list for each stress period\n",
    "    frf['sp%s'%(stress_per)] = budgobj.get_data(text='FLOW RIGHT FACE',totim=time)     #returns array of flow rates for right face of cells \n",
    "    fff['sp%s'%(stress_per)] = budgobj.get_data(text='FLOW FRONT FACE',totim=time)     #returns array of flow rates for front face of cells \n",
    "    storage['sp%s'%(stress_per)] = budgobj.get_data(text='STORAGE',totim=time)         #returns array of volumetric storage changes\n",
    "    consthead['sp%s'%(stress_per)] = budgobj.get_data(text='CONSTANT HEAD',totim=time) #returns array of flow into/out of constant head cells\n",
    "    leakage['sp%s'%(stress_per)] = budgobj.get_data(text='RIVER LEAKAGE',totim=time)   #returns array of flow rates from river leakage into/out of cells\n",
    "    recharge['sp%s'%(stress_per)] = budgobj.get_data(text='RECHARGE', totim=time)      #returns array of flow rates for recharge into cells \n",
    "    et['sp%s'%(stress_per)] = budgobj.get_data(text='ET', totim=time)                  #returns array of flow rates for ET out of cells"
   ]
  },
  {
   "cell_type": "markdown",
   "metadata": {},
   "source": [
    "### Pulling out specific data\n",
    "If we want to look at what is contained in the dictionary, we can print out data for a specific stress period or for all stress periods. The syntax to access the data can be confusing at first, so if you have not read about different data types in Python head over to the 'Flopy_data_structures_tutorial' to read about them before we continue.\n",
    "\n",
    "We will use the constant head dictionary as our example. We created a dictionary to store the constant head values called *'consthead'*. We can print the entire dictionary, but it is long. We expect it to be 22 entries long because we have three transient stress periods with 7 timesteps each (21) and one steady-state stress period with one timestep (1). "
   ]
  },
  {
   "cell_type": "code",
   "execution_count": 4,
   "metadata": {},
   "outputs": [
    {
     "name": "stdout",
     "output_type": "stream",
     "text": [
      "Length of consthead = 22\n"
     ]
    }
   ],
   "source": [
    "#Print length of Constant head dictionary\n",
    "print('Length of consthead =', len(consthead))\n",
    "\n",
    "#Print the Constant head dictionary\n",
    "# print('Printing entire Constant head dictionary......', consthead)"
   ]
  },
  {
   "cell_type": "markdown",
   "metadata": {},
   "source": [
    "To access values in a dictionary, we need to refer to them by their 'key'. In this case, our keys are strings that start with sp and end with the number of the timestep (e.g. 'sp0' is the key to access data contained in timestep 1). The length of consthead['sp%s'] is always 1 because there is only data for that timestep."
   ]
  },
  {
   "cell_type": "code",
   "execution_count": 5,
   "metadata": {},
   "outputs": [
    {
     "name": "stdout",
     "output_type": "stream",
     "text": [
      "Length of timestep 10 = 1\n",
      "Printing timestep 10..... [rec.array([(   1, -2195.7068 ), (  50,  -746.3832 ), (  51, -2195.6328 ),\n",
      "           ( 100,  -746.2561 ), ( 101, -2195.4795 ), ( 150,  -745.9985 ),\n",
      "           ( 151, -2195.2358 ), ( 200,  -745.60236), ( 201, -2194.8838 ),\n",
      "           ( 250,  -745.0549 ), ( 251, -2194.3965 ), ( 300,  -744.3358 ),\n",
      "           ( 301, -2193.7332 ), ( 350,  -743.4131 ), ( 351, -2192.8318 ),\n",
      "           ( 400,  -742.2348 ), ( 401, -2191.589  ), ( 450,  -740.70984),\n",
      "           ( 451, -2189.8135 ), ( 500,  -738.65924), ( 501, -2187.085  ),\n",
      "           ( 550,  -735.6771 ), ( 551, -2185.303  ), ( 600,  -733.6768 ),\n",
      "           ( 601, -2184.0476 ), ( 650,  -732.2511 ), ( 651, -2183.1265 ),\n",
      "           ( 700,  -731.2188 ), ( 701, -2182.4348 ), ( 750,  -730.4849 ),\n",
      "           ( 751, -2181.9084 ), ( 800,  -729.9914 ), ( 801, -2181.505  ),\n",
      "           ( 850,  -729.6977 ), ( 851, -2181.1936 ), ( 900,  -729.5712 ),\n",
      "           ( 901, -2180.9521 ), ( 950,  -729.5817 ), ( 951, -2180.764  ),\n",
      "           (1000,  -729.6976 ), (1001, -2180.6165 ), (1050,  -729.8821 ),\n",
      "           (1051, -2180.5    ), (1100,  -730.08966), (1101, -2180.4072 ),\n",
      "           (1150,  -730.261  ), (1151, -2180.3328 ), (1200,  -730.3169 ),\n",
      "           (1201, -2180.272  ), (1250,  -730.1492 ), (1251, -2180.2224 ),\n",
      "           (1300,  -729.60675), (1301, -2180.1814 ), (1350,  -728.4755 ),\n",
      "           (1351, -2180.1475 ), (1400,  -726.4438 ), (1401, -2180.1196 ),\n",
      "           (1450,  -723.047  ), (1451, -2180.0974 ), (1500,  -717.5723 ),\n",
      "           (1501, -2180.0808 ), (1550,  -708.8934 ), (1551, -2180.069  ),\n",
      "           (1600,  -695.18756), (1601, -2180.0627 ), (1650,  -673.47675),\n",
      "           (1651, -2180.062  ), (1700,  -639.00226), (1701, -2180.0662 ),\n",
      "           (1750,  -584.8744 ), (1751, -2180.0754 ), (1800,  -504.04605),\n",
      "           (1801, -2180.0894 ), (1850,  -399.7124 ), (1851, -2180.107  ),\n",
      "           (1900,  -309.53268), (1901, -2180.1277 ), (1950,  -245.24854),\n",
      "           (1951, -2180.1506 ), (2000,  -205.98279), (2001, -2180.1746 ),\n",
      "           (2050,  -188.25378), (2051, -2180.1987 ), (2100,  -189.84825),\n",
      "           (2101, -2180.2222 ), (2150,  -210.9222 ), (2151, -2180.244  ),\n",
      "           (2200,  -253.99017), (2201, -2180.264  ), (2250,  -322.75192),\n",
      "           (2251, -2180.2812 ), (2300,  -417.94647), (2301, -2180.2954 ),\n",
      "           (2350,  -526.6161 ), (2351, -2180.3062 ), (2400,  -607.80615),\n",
      "           (2401, -2180.3135 ), (2450,  -656.8476 ), (2451, -2180.3174 ),\n",
      "           (2500,  -679.2851 )],\n",
      "          dtype=[('node', '<i4'), ('q', '<f4')])]\n"
     ]
    }
   ],
   "source": [
    "#Print length and values from timestep 10\n",
    "print('Length of timestep 10 =', len(consthead['sp9']))  \n",
    "print('Printing timestep 10.....', consthead['sp9'])"
   ]
  },
  {
   "cell_type": "markdown",
   "metadata": {},
   "source": [
    "After the key, we can specify a value to pull out. However this value refers to a recarray. There is only one recarray contained within each key, so we will just use [0]. After the key, we can put integers in brackets to get the cell column, and then the cell ID or flux value."
   ]
  },
  {
   "cell_type": "code",
   "execution_count": 6,
   "metadata": {},
   "outputs": [
    {
     "name": "stdout",
     "output_type": "stream",
     "text": [
      "Flux in the in middle of the right boundary = -730.1492\n",
      "The cell ID =  1250\n",
      "Cell ID and flux =  (1250, -730.1492)\n"
     ]
    }
   ],
   "source": [
    "print('Flux in the in middle of the right boundary =', consthead['sp9'][0][49][1]) # [0] = value to access array [49] = the 50th column [1] = second value in array (flux)\n",
    "print('The cell ID = ', consthead['sp9'][0][49][0])   # [0] = value to access array [49] = the 50th column [0] = first value in array (cell ID)\n",
    "print('Cell ID and flux = ', consthead['sp9'][0][49])  # [0] = value to access array [49] = the 50th cell (right-hand side) "
   ]
  },
  {
   "cell_type": "markdown",
   "metadata": {},
   "source": [
    "In summary, the constant head data are contained within a numpy recarray that is nested inside a dictionary.\n",
    "\n",
    "We can use the syntax in the above examples to obtain information from the other water budget variables. *It is highly recommended that you explore what is contained within each dictionary before you pull out specific data because they all have DIFFERENT formats.* For example, the code below will produce the head in timestep 1 at the coordinate [0,0].\n",
    "> head['sp0'][0][0][0]\n",
    "\n",
    "\n",
    "**Tips for exploring the data dictionaries:** \n",
    "\n",
    "- Check the datatype \n",
    "> **print('Leakage type =',type(leakage), '\\nLeakage timestep 2 type =', type(leakage['sp1']))**\n",
    "\n",
    "    > *Leakage type = <class 'dict'>* \n",
    "    \n",
    "    > *Leakage timestep 2 type = <class 'list'>*\n",
    "\n",
    "- Check the shape or length (shape can be used for dataframes or arrays)\n",
    "> **print('Storage shape (dimensions) =', storage['sp1'][0].shape)**\n",
    "\n",
    "    > *Storage shape (dimensions) = (1, 50, 50)*\n",
    " \n",
    " > **print('Length of recharge dictionary =', len(recharge), '\\nLength of recharge timestep 1 =', len(recharge['sp0']))**\n",
    "    \n",
    "    > *Length of recharge dictionary = 22*\n",
    "    \n",
    "    > *Length of recharge timestep 1 = 1*\n",
    "    \n",
    "- Use LOTS of print statements\n",
    "\n",
    "- Make sure that your data is subscriptable. You *cannot* loop over an integer"
   ]
  },
  {
   "cell_type": "code",
   "execution_count": 7,
   "metadata": {},
   "outputs": [],
   "source": [
    "# print('Printing head at timestep 1 ...', head['sp0'])\n",
    "# print('Printing head at (0,0) for timestep 1 ...', head['sp0'][0][0][0])\n",
    "# print('Printing right face flow at timestep 1 ...', frf['sp0'])\n",
    "# print('Printing front face flow at timestep 1 ...', fff['sp0'])\n",
    "# print('Printing storage at timestep 1 ...', storage['sp0'])\n",
    "# print('Printing leakage at timestep 1 ...', leakage['sp0'])\n",
    "# print('Printing recharge at timestep 1 ...', recharge['sp0'])\n",
    "# print('Printing ET at timestep 1 ...', et['sp0'])"
   ]
  },
  {
   "cell_type": "markdown",
   "metadata": {},
   "source": [
    "## 4. Why is the water budget useful?\n",
    " - Changes in budget between stress periods \n",
    " - What is the sum of fluxes entering and leaving the system in each stress period?\n",
    " - Plot the changes in fluxes over time\n",
    " - What is the total inflow, outflow and storage change?"
   ]
  },
  {
   "cell_type": "code",
   "execution_count": 8,
   "metadata": {},
   "outputs": [
    {
     "name": "stdout",
     "output_type": "stream",
     "text": [
      "Leakage for Stress period 3 = 141707\n",
      "Leakage for Stress period 4 = 141713\n",
      "Difference in leakage = 6\n"
     ]
    }
   ],
   "source": [
    "## What is the difference in leakage between stress periods 3 and 4?\n",
    "leak_flux = np.array(range(nper))  #create an array to store data for each stress period\n",
    "\n",
    "for i in range(nper):  #for the 4 stress periods contained in nper\n",
    "#     print(\"Stream Leakage for Stress period %s\"%i)  #print to check result\n",
    "    leak_flux[i] = 0  #set leakage to 0\n",
    "    for k in range(len(leakage['sp%s'%i][0])):  #go through each timestep of leakage\n",
    "        #print(leakage['sp%s'%i][0][k][1])  #print to check result\n",
    "        leak_flux[i] = leak_flux[i] + leakage['sp%s'%i][0][k][1]  #add each timestep value to leak_flux\n",
    "# print(leak_flux)  #check the result\n",
    "\n",
    "print('Leakage for Stress period 3 =', leak_flux[2])  #print total leakage for stress period 3\n",
    "print('Leakage for Stress period 4 =', leak_flux[3])  #print total leakage for stress period 4\n",
    "print('Difference in leakage =', leak_flux[3]-leak_flux[2])  #print difference in leakage between stress periods 3 and 4"
   ]
  },
  {
   "cell_type": "markdown",
   "metadata": {},
   "source": [
    "### All of the Water Budget variables"
   ]
  },
  {
   "cell_type": "code",
   "execution_count": 9,
   "metadata": {},
   "outputs": [
    {
     "name": "stdout",
     "output_type": "stream",
     "text": [
      "Calculated storage = [157.6960428627208, 14.36332839820534, 1.4379017828032374, 0.1406662305817008, 4.268251359462738e-06, 3.995373845100403e-07, -173.69170292187482, 157.6960772452876, 14.347706242464483, 1.437901882454753, 0.1250413954257965, 0.015629244036972523, 4.954636096954346e-07, 347.4006603648886, -315.39190533943474, -28.69539268128574, -2.8601771658286452, -0.3125823847949505, -8.581206202507019e-06, -8.624047040939331e-07]\n",
      "MODFLOW Storage = [173.6845, 15.949028, 1.5838547, 0.1608963, 0.016784668, 0.0016479492, 0.00016784668, 173.68433, 15.948944, 1.5841141, 0.16104889, 0.01626587, 0.0019989014, 0.0001296997, -347.36917, -31.898079, -3.167923, -0.3215561, -0.033226013, -0.0034179688, -0.00034332275]\n"
     ]
    }
   ],
   "source": [
    "## What are the inflows, outflows, and storage changes?\n",
    "\n",
    "# Create a list of all the days\n",
    "day_list = list(range(22))\n",
    "for i in range(len(day_list)):\n",
    "    day_list[i] = day_list[i]*1\n",
    "# print(day_list)\n",
    "\n",
    "# Grabbing daily leakage\n",
    "daily_leak = []  #create list to store leakage values\n",
    "for i in day_list:\n",
    "    leak_change = 0  #use this for addition\n",
    "    leak_i = np.sum(leakage['sp%s'%(i)][0][:].q)  #sum the daily leakage\n",
    "    leak_change = leak_change + leak_i  #get values\n",
    "#     print(leak_change) \n",
    "    daily_leak.append(leak_change)  #append values to list\n",
    "    \n",
    "# Grabbing daily ET  \n",
    "daily_ET = []  #create list to store ET values\n",
    "for i in day_list:\n",
    "    et_change = 0  #use this for addition\n",
    "    et_i = np.sum(et['sp%s'%(i)][0][:][:][:])  #sum the ET\n",
    "    et_change = et_change + et_i  #get values\n",
    "#     print(et_change)\n",
    "    daily_ET.append(et_change)  #append values to list\n",
    "\n",
    "# Grabbing daily recharge\n",
    "daily_rech = []  #create list to store recharge values\n",
    "for i in day_list:\n",
    "    rech_change = 0   #use this for addition\n",
    "    rech_i = np.sum(recharge['sp%s'%(i)][0][:][:][:])\n",
    "    rech_change = rech_change + rech_i  #get values\n",
    "#     print(rech_change)\n",
    "    daily_rech.append(rech_change)  #append values to list\n",
    "# print(daily_rech)\n",
    "\n",
    "# Grabbing daily constant head fluxes\n",
    "daily_CH = []  #create list to store constant head values\n",
    "for i in day_list:\n",
    "    CH_change = []\n",
    "    for j in range(1, 100):\n",
    "        CH_change.append(consthead['sp%s'%(i)][0][j][1])  #sum the values\n",
    "    daily_CH.append(np.sum(CH_change))  #append values to list\n",
    "# print(daily_CH)\n",
    "# print(CH_change)\n",
    "\n",
    "# Grabbing pumping\n",
    "pumping_list = [0, -2500, -2500, -2500, -2500,\n",
    "               -2500, -2500, -2500, -5000, -5000,\n",
    "               -5000, -5000, -5000, -5000, -5000,\n",
    "               0, 0, 0, 0, 0, 0, 0]  #pumping list\n",
    "\n",
    "# Calculating daily storage totals\n",
    "daily_stor = []  #create list to store storage values that we calculate\n",
    "for i in day_list:\n",
    "    stor = (pumping_list[i] + daily_ET[i] + daily_rech[i] + daily_leak[i] + daily_CH[i])  #summing the fluxes into and out of the system\n",
    "    daily_stor.append(stor)  #append to list\n",
    "# print(daily_stor)\n",
    "\n",
    "# Calculating daily storage fluxes\n",
    "daily_stor_change = []  #create lsit to store storage fluxes\n",
    "for i in range(1,21):\n",
    "    change = daily_stor[i+1]- daily_stor[i]  #subtract each stress period from the one after it\n",
    "    daily_stor_change.append(change)  #append values to the list\n",
    "print('Calculated storage =', daily_stor_change)\n",
    "\n",
    "# Grabbing the storage values that MODFLOW calculated\n",
    "storage_list = []  #create empty list for the daily storage fluxes\n",
    "for i in range(1,22):  #for loop has same range as day list\n",
    "    daily_stor_flux = storage['sp%s'%(i)][0].sum()  #sum storage over each day because each day is a different stress period\n",
    "    storage_list.append(daily_stor_flux)  #append values to the storage list\n",
    "# print(daily_stor_flux)\n",
    "print('MODFLOW Storage =', storage_list)"
   ]
  },
  {
   "cell_type": "code",
   "execution_count": 10,
   "metadata": {},
   "outputs": [
    {
     "data": {
      "image/png": "[encoded data removed]",
      "text/plain": [
       "<Figure size 432x288 with 1 Axes>"
      ]
     },
     "metadata": {
      "needs_background": "light"
     },
     "output_type": "display_data"
    }
   ],
   "source": [
    "# Plot storage change over time\n",
    "day_list = list(range(1,22))  #create list with values for each day\n",
    "\n",
    "plt.title(\"Daily changes in Storage\",fontweight='bold')  #set title\n",
    "plt.xlabel('Day',fontweight='bold')                      #Label x axis\n",
    "plt.ylabel('Change Storage(m^3/d)',fontweight='bold')    #Label y axis\n",
    "plt.plot(day_list, storage_list, 'b-', color=\"dodgerblue\", label= \"MODFLOW storage flux\") #plot days versus MODfLOW daily storage flux\n",
    "\n",
    "day_list = list(range(1,21))  #create list with values for each day\n",
    "plt.plot(day_list, daily_stor_change, 'b-', color=\"purple\", label= \"Calculated storage flux\") #plot days versus calculated daily storage flux\n",
    "# plt.savefig('storage.png', dpi=600)\n",
    "plt.legend()\n",
    "plt.show()  #show the figure"
   ]
  },
  {
   "cell_type": "code",
   "execution_count": null,
   "metadata": {},
   "outputs": [],
   "source": []
  }
 ],
 "metadata": {
  "kernelspec": {
   "display_name": "Python 3",
   "language": "python",
   "name": "python3"
  },
  "language_info": {
   "codemirror_mode": {
    "name": "ipython",
    "version": 3
   },
   "file_extension": ".py",
   "mimetype": "text/x-python",
   "name": "python",
   "nbconvert_exporter": "python",
   "pygments_lexer": "ipython3",
   "version": "3.8.1"
  }
 },
 "nbformat": 4,
 "nbformat_minor": 4
}
